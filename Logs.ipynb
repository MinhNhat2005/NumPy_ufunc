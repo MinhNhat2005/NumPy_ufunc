{
 "cells": [
  {
   "cell_type": "markdown",
   "id": "f8811304-30d3-46ae-9f9c-38f20c33481f",
   "metadata": {},
   "source": [
    "<span style=\"font-size:30px;\">Logarit</span>\n"
   ]
  },
  {
   "cell_type": "markdown",
   "id": "a48d9104-9d22-4b70-8588-b4a24519311b",
   "metadata": {},
   "source": [
    "<span style=\"font-size:20px;\">Log ở cơ số 2</span>\n"
   ]
  },
  {
   "cell_type": "code",
   "execution_count": 3,
   "id": "b99ca9d4-8871-4a4e-b4a6-122d91fb2e88",
   "metadata": {},
   "outputs": [
    {
     "name": "stdout",
     "output_type": "stream",
     "text": [
      "[0.         1.         1.5849625  2.         2.32192809 2.5849625\n",
      " 2.80735492 3.         3.169925  ]\n"
     ]
    }
   ],
   "source": [
    "# Sử dụng log2() để thực hiện phép tính logarit ở cơ số 2\n",
    " # Tìm logarit ở cơ số 2 của tất cả các phần tử trong mảng sau:\n",
    "import numpy as np\n",
    "arr = np.arange(1, 10) #arange(1, 10)trả về một mảng gồm các số nguyên bắt đầu từ 1 (đã bao gồm) đến 10 (không bao gồm).\n",
    "print(np.log2(arr))"
   ]
  },
  {
   "cell_type": "markdown",
   "id": "b24dbcb4-8229-441c-acb7-0318bf11b1bc",
   "metadata": {},
   "source": [
    "<span style=\"font-size:20px;\">log ở có số 10</span>\n"
   ]
  },
  {
   "cell_type": "code",
   "execution_count": 6,
   "id": "8db966d5-4a85-49d5-89a1-5a51aa6a128c",
   "metadata": {},
   "outputs": [
    {
     "name": "stdout",
     "output_type": "stream",
     "text": [
      "[0.         0.30103    0.47712125 0.60205999 0.69897    0.77815125\n",
      " 0.84509804 0.90308999 0.95424251]\n"
     ]
    }
   ],
   "source": [
    "# Tìm logarit ở cơ số 10 của tất cả các phần tử trong mảng sau:\n",
    "import numpy as np\n",
    "arr = np.arange(1, 10)\n",
    "print(np.log10(arr))"
   ]
  },
  {
   "cell_type": "markdown",
   "id": "73f86d67-afea-49e2-a6fe-41212d5d9183",
   "metadata": {},
   "source": [
    "<span style=\"font-size:20px;\">Log tự nhiên, hoặc Log ở đáy e</span>\n"
   ]
  },
  {
   "cell_type": "code",
   "execution_count": 7,
   "id": "0621073e-8404-4e6d-acea-9be60c22d54b",
   "metadata": {},
   "outputs": [
    {
     "name": "stdout",
     "output_type": "stream",
     "text": [
      "[0.         0.69314718 1.09861229 1.38629436 1.60943791 1.79175947\n",
      " 1.94591015 2.07944154 2.19722458]\n"
     ]
    }
   ],
   "source": [
    "import numpy as np\n",
    "arr = np.arange(1,10)\n",
    "print(np.log(arr))"
   ]
  },
  {
   "cell_type": "markdown",
   "id": "057e6885-a428-41ef-a6fa-1b8b7571aa12",
   "metadata": {},
   "source": [
    "<span style=\"font-size:20px;\">Log ở bất kỳ cơ sở nào\n",
    "</span>\n"
   ]
  },
  {
   "cell_type": "code",
   "execution_count": 8,
   "id": "7c789ddc-b12b-47f8-8e53-78ac05d6c928",
   "metadata": {},
   "outputs": [
    {
     "name": "stdout",
     "output_type": "stream",
     "text": [
      "1.7005483074552052\n"
     ]
    }
   ],
   "source": [
    "from math import log\n",
    "import numpy as np\n",
    "\n",
    "nplog = np.frompyfunc(log, 2,1)\n",
    "print(nplog(100,15))"
   ]
  },
  {
   "cell_type": "code",
   "execution_count": null,
   "id": "635d0a93-72d7-42f1-9978-9895421c8f31",
   "metadata": {},
   "outputs": [],
   "source": []
  }
 ],
 "metadata": {
  "kernelspec": {
   "display_name": "Python 3 (ipykernel)",
   "language": "python",
   "name": "python3"
  },
  "language_info": {
   "codemirror_mode": {
    "name": "ipython",
    "version": 3
   },
   "file_extension": ".py",
   "mimetype": "text/x-python",
   "name": "python",
   "nbconvert_exporter": "python",
   "pygments_lexer": "ipython3",
   "version": "3.11.7"
  }
 },
 "nbformat": 4,
 "nbformat_minor": 5
}
