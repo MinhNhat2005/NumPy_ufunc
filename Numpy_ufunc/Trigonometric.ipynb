{
 "cells": [
  {
   "cell_type": "markdown",
   "id": "bf3274d8-c7d1-4741-8950-0ac6fa27b3c2",
   "metadata": {},
   "source": [
    "<span style=\"font-size:30px;\">Hàm lượng giác: sin</span>\n"
   ]
  },
  {
   "cell_type": "code",
   "execution_count": 2,
   "id": "478cc7aa-c51b-472a-915d-62c42f934b7c",
   "metadata": {},
   "outputs": [
    {
     "name": "stdout",
     "output_type": "stream",
     "text": [
      "sin(pi/2) = 1.0\n"
     ]
    }
   ],
   "source": [
    "# Tìm gía trị sin của pi/2\n",
    "import numpy as np\n",
    "x = np.sin(np.pi/2)\n",
    "print(\"sin(pi/2) =\",x)"
   ]
  },
  {
   "cell_type": "code",
   "execution_count": 4,
   "id": "6e2bf582-2d3c-4048-9a61-3e9870dce603",
   "metadata": {},
   "outputs": [
    {
     "name": "stdout",
     "output_type": "stream",
     "text": [
      "[1.         0.8660254  0.70710678 0.58778525]\n"
     ]
    }
   ],
   "source": [
    "# Tìm giá trị sin cho tất cả các giá trị trong arr\n",
    "import numpy as np\n",
    "arr = np.array([np.pi/2, np.pi/3, np.pi/4, np.pi/5])\n",
    "x = np.sin(arr)\n",
    "print(x)\n",
    "               "
   ]
  },
  {
   "cell_type": "markdown",
   "id": "e9a5e1ae-b322-4ec3-8075-a14053e9ec79",
   "metadata": {},
   "source": [
    "<span style=\"font-size:30px;\">Chuyển đổi độ sang radian</span>\n"
   ]
  },
  {
   "cell_type": "code",
   "execution_count": 6,
   "id": "911c27f0-2d4d-4c46-bbec-52960b05d8c8",
   "metadata": {},
   "outputs": [
    {
     "name": "stdout",
     "output_type": "stream",
     "text": [
      "[1.57079633 3.14159265 4.71238898 6.28318531]\n"
     ]
    }
   ],
   "source": [
    "# Chuyển đổi tất cả các gía trị trong mảng arr sau sang radian\n",
    "import numpy as np\n",
    "arr = np.array([90, 180, 270, 360])\n",
    "x = np.deg2rad(arr)\n",
    "print(x)"
   ]
  },
  {
   "cell_type": "markdown",
   "id": "16b34707-6fad-472a-ac18-6acbd1b6de1b",
   "metadata": {},
   "source": [
    "<span style=\"font-size:30px;\">Chuyển đổi radian sang độ</span>\n"
   ]
  },
  {
   "cell_type": "code",
   "execution_count": 8,
   "id": "69981580-f549-4d23-a585-9db6cb74d830",
   "metadata": {},
   "outputs": [
    {
     "name": "stdout",
     "output_type": "stream",
     "text": [
      "[ 90. 180. 270. 360.]\n"
     ]
    }
   ],
   "source": [
    "# chuyển tất cả các giá trị trong mảng sau sang độ\n",
    "import numpy as np\n",
    "arr = np.array([np.pi/2, np.pi, 1.5*np.pi, 2*np.pi])\n",
    "x = np.rad2deg(arr)\n",
    "print(x)\n"
   ]
  },
  {
   "cell_type": "markdown",
   "id": "8e7b3d2f-a49b-4228-9a81-d102e6ead5df",
   "metadata": {},
   "source": [
    "<span style=\"font-size:30px;\">Tìm góc</span>\n"
   ]
  },
  {
   "cell_type": "code",
   "execution_count": 9,
   "id": "7e84983d-946b-4505-a83c-5dd35f88fd52",
   "metadata": {},
   "outputs": [
    {
     "name": "stdout",
     "output_type": "stream",
     "text": [
      "1.5707963267948966\n"
     ]
    }
   ],
   "source": [
    "# Tìm góc 1.0\n",
    "import numpy as np\n",
    "x = np.arcsin(1.0)\n",
    "print(x)"
   ]
  },
  {
   "cell_type": "markdown",
   "id": "883dd5ac-f167-46e9-ae55-6397aec92077",
   "metadata": {},
   "source": [
    "<span style=\"font-size:30px;\">Góc của mỗi giá trị trong mảng</span>\n"
   ]
  },
  {
   "cell_type": "code",
   "execution_count": 11,
   "id": "a06821ae-32cd-429b-8783-973df61898f6",
   "metadata": {},
   "outputs": [
    {
     "name": "stdout",
     "output_type": "stream",
     "text": [
      "[ 1.57079633 -1.57079633  0.          1.57079633]\n"
     ]
    }
   ],
   "source": [
    "# Tìm góc cho tất cả các giá trị sin trong mảng\n",
    "import numpy as np\n",
    "arr = np.array([1, -1, 0 , 1])\n",
    "x = np.arcsin(arr)\n",
    "print(x)"
   ]
  },
  {
   "cell_type": "markdown",
   "id": "42c32d71-8429-461a-bb3d-217e8f440668",
   "metadata": {},
   "source": [
    "<span style=\"font-size:30px;\">Cạnh huyền</span>\n"
   ]
  },
  {
   "cell_type": "code",
   "execution_count": 15,
   "id": "c2561455-8ed4-4363-be0b-2e37f63bee2c",
   "metadata": {},
   "outputs": [
    {
     "name": "stdout",
     "output_type": "stream",
     "text": [
      "5.0\n"
     ]
    }
   ],
   "source": [
    "# Tìm cạnh huyền của 4 đáy và 3 góc vuông\n",
    "import numpy as np\n",
    "base = 3\n",
    "perp = 4\n",
    "\n",
    "x = np.hypot(base, perp)\n",
    "print(x)"
   ]
  },
  {
   "cell_type": "code",
   "execution_count": null,
   "id": "4f4261f0-8f21-4f0f-8a7a-36ac83953c2d",
   "metadata": {},
   "outputs": [],
   "source": []
  }
 ],
 "metadata": {
  "kernelspec": {
   "display_name": "Python 3 (ipykernel)",
   "language": "python",
   "name": "python3"
  },
  "language_info": {
   "codemirror_mode": {
    "name": "ipython",
    "version": 3
   },
   "file_extension": ".py",
   "mimetype": "text/x-python",
   "name": "python",
   "nbconvert_exporter": "python",
   "pygments_lexer": "ipython3",
   "version": "3.11.7"
  }
 },
 "nbformat": 4,
 "nbformat_minor": 5
}
