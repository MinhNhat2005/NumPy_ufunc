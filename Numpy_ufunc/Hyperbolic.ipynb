{
 "cells": [
  {
   "cell_type": "markdown",
   "id": "dc04a67e-f719-4de0-9c3a-c76816257009",
   "metadata": {},
   "source": [
    "<span style=\"font-size:30px;\">Hàm số Hyperbolic</span>\n"
   ]
  },
  {
   "cell_type": "code",
   "execution_count": 4,
   "id": "5e717a9b-d2df-4cfd-b424-2a0763ed3f14",
   "metadata": {},
   "outputs": [
    {
     "name": "stdout",
     "output_type": "stream",
     "text": [
      "2.3012989023072947\n"
     ]
    }
   ],
   "source": [
    "# Tìm giá trị sinh của Pi/2\n",
    "import numpy as np\n",
    "x = np.sinh(np.pi/2)\n",
    "print(x)"
   ]
  },
  {
   "cell_type": "code",
   "execution_count": 5,
   "id": "71dd97e1-6e38-4603-9d98-eda6c8e52768",
   "metadata": {},
   "outputs": [
    {
     "name": "stdout",
     "output_type": "stream",
     "text": [
      "[2.50917848 1.60028686 1.32460909 1.20397209]\n"
     ]
    }
   ],
   "source": [
    "# Tính giá trị cosh cho tất cả các giá trị trong mảng\n",
    "import numpy as np\n",
    "arr = np.array([np.pi/2, np.pi/3, np.pi/4, np.pi/5])\n",
    "x = np.cosh(arr)\n",
    "print(x)\n"
   ]
  },
  {
   "cell_type": "code",
   "execution_count": 6,
   "id": "862b3d5b-a7fa-41b4-9029-fb94b52518f8",
   "metadata": {},
   "outputs": [
    {
     "name": "stdout",
     "output_type": "stream",
     "text": [
      "0.881373587019543\n"
     ]
    }
   ],
   "source": [
    "# tìm góc\n",
    "import numpy as np\n",
    "x = np.arcsinh(1.0)\n",
    "print(x)"
   ]
  },
  {
   "cell_type": "code",
   "execution_count": 7,
   "id": "c7038fca-1e8e-4c58-960a-f630050ae834",
   "metadata": {},
   "outputs": [
    {
     "name": "stdout",
     "output_type": "stream",
     "text": [
      "[0.10033535 0.20273255 0.54930614]\n"
     ]
    }
   ],
   "source": [
    "# Góc của mỗi giá trị trong mảng\n",
    "import numpy as np\n",
    "arr = np.array([0.1, 0.2, 0.5])\n",
    "x = np.arctanh(arr)\n",
    "print(x)"
   ]
  },
  {
   "cell_type": "code",
   "execution_count": null,
   "id": "41d14e8a-1f84-4dec-b195-149a2120af74",
   "metadata": {},
   "outputs": [],
   "source": []
  }
 ],
 "metadata": {
  "kernelspec": {
   "display_name": "Python 3 (ipykernel)",
   "language": "python",
   "name": "python3"
  },
  "language_info": {
   "codemirror_mode": {
    "name": "ipython",
    "version": 3
   },
   "file_extension": ".py",
   "mimetype": "text/x-python",
   "name": "python",
   "nbconvert_exporter": "python",
   "pygments_lexer": "ipython3",
   "version": "3.11.7"
  }
 },
 "nbformat": 4,
 "nbformat_minor": 5
}
