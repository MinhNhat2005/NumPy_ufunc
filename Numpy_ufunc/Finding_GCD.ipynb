{
 "cells": [
  {
   "cell_type": "markdown",
   "id": "9ed77c6d-4953-4b61-8025-d19c7212bfd8",
   "metadata": {},
   "source": [
    "<span style=\"font-size:30px;\">Ước chung lớn nhất: gcd</span>\n"
   ]
  },
  {
   "cell_type": "code",
   "execution_count": 1,
   "id": "0acf91cd-d645-4529-9898-01d089bfed6d",
   "metadata": {},
   "outputs": [
    {
     "name": "stdout",
     "output_type": "stream",
     "text": [
      "UCLN = 3\n"
     ]
    }
   ],
   "source": [
    "# Tìm ƯcLN của 2 số sau\n",
    "import numpy as np\n",
    "num1 = 6\n",
    "num2 = 9\n",
    "x = np.gcd(num1, num2)\n",
    "print(\"UCLN =\",x)"
   ]
  },
  {
   "cell_type": "code",
   "execution_count": 2,
   "id": "32b9568b-8fd4-408f-b3a3-387c3ff10e6e",
   "metadata": {},
   "outputs": [
    {
     "name": "stdout",
     "output_type": "stream",
     "text": [
      "UCLN = 4\n"
     ]
    }
   ],
   "source": [
    "# Tìm ƯCLN của tất cả các số trong mảng sau\n",
    "import numpy as np\n",
    "arr = np.array([20, 8, 32, 36, 16])\n",
    "x = np.gcd.reduce(arr)\n",
    "print(\"UCLN =\",x)"
   ]
  },
  {
   "cell_type": "code",
   "execution_count": null,
   "id": "221e4928-e549-4902-92d8-a5daca999c40",
   "metadata": {},
   "outputs": [],
   "source": []
  }
 ],
 "metadata": {
  "kernelspec": {
   "display_name": "Python 3 (ipykernel)",
   "language": "python",
   "name": "python3"
  },
  "language_info": {
   "codemirror_mode": {
    "name": "ipython",
    "version": 3
   },
   "file_extension": ".py",
   "mimetype": "text/x-python",
   "name": "python",
   "nbconvert_exporter": "python",
   "pygments_lexer": "ipython3",
   "version": "3.11.7"
  }
 },
 "nbformat": 4,
 "nbformat_minor": 5
}
