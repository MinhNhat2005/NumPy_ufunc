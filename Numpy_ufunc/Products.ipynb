{
 "cells": [
  {
   "cell_type": "markdown",
   "id": "11bc3d04-d6b5-4c9f-93ba-1529653e6e62",
   "metadata": {},
   "source": [
    "<span style=\"font-size:30px;\">Tích: prod()</span>\n"
   ]
  },
  {
   "cell_type": "code",
   "execution_count": 1,
   "id": "0cdaffd7-4e50-42db-a9ef-91feb32a8dd7",
   "metadata": {},
   "outputs": [
    {
     "name": "stdout",
     "output_type": "stream",
     "text": [
      "24\n"
     ]
    }
   ],
   "source": [
    "# Tìm tích của các phần tử của mảng: prod()\n",
    "import numpy as np\n",
    "arr = np.array([1,2,3,4])\n",
    "x = np.prod(arr)\n",
    "print(x)"
   ]
  },
  {
   "cell_type": "code",
   "execution_count": 3,
   "id": "c5152133-9b00-4930-88d6-0670397c67f7",
   "metadata": {},
   "outputs": [
    {
     "name": "stdout",
     "output_type": "stream",
     "text": [
      "40320\n"
     ]
    }
   ],
   "source": [
    "# tích các phần tử của 2 mảng\n",
    "import numpy as np\n",
    "arr1 = np.array([1,2,3,4])\n",
    "arr2= np.array([5,6,7,8])\n",
    "newarr = np.prod([arr1, arr2])\n",
    "print(newarr)"
   ]
  },
  {
   "cell_type": "markdown",
   "id": "e3016d3e-949f-4fa9-b480-39007bf1ac8d",
   "metadata": {},
   "source": [
    "<span style=\"font-size:20px;\">Tích trên 1 trục</span>\n"
   ]
  },
  {
   "cell_type": "code",
   "execution_count": 6,
   "id": "3568b8ea-8832-4ac6-b495-9ee116fe7255",
   "metadata": {},
   "outputs": [
    {
     "name": "stdout",
     "output_type": "stream",
     "text": [
      "[  24 1680]\n"
     ]
    }
   ],
   "source": [
    "# Thực hiện tính tích trong mảng sau theo trục thứ nhất\n",
    "import numpy as np\n",
    "arr1 = np.array([1,2,3,4])\n",
    "arr2= np.array([5,6,7,8])\n",
    "newarr = np.prod([arr1, arr2], axis=1)\n",
    "print(newarr)"
   ]
  },
  {
   "cell_type": "markdown",
   "id": "6aebd8db-7c61-4ca7-8752-076aa5b1e160",
   "metadata": {},
   "source": [
    "<span style=\"font-size:20px;\">Tích tích lũy: cumprod</span>\n"
   ]
  },
  {
   "cell_type": "code",
   "execution_count": 8,
   "id": "8c67249c-7ae9-4f1d-a137-16c6f0a02043",
   "metadata": {},
   "outputs": [
    {
     "name": "stdout",
     "output_type": "stream",
     "text": [
      "[   5   30  210 1680]\n"
     ]
    }
   ],
   "source": [
    "# lấy tích tích lũy của tất cả các phần tử của mảng sau\n",
    "import numpy as np\n",
    "arr = np.array([5,6,7,8]) # kết quả = [5, 5*6. 5*6*7, 5*6*7*8]\n",
    "newarr = np.cumprod(arr)\n",
    "print(newarr)"
   ]
  },
  {
   "cell_type": "code",
   "execution_count": null,
   "id": "76623329-5552-494a-9326-4961ed67ec7b",
   "metadata": {},
   "outputs": [],
   "source": []
  }
 ],
 "metadata": {
  "kernelspec": {
   "display_name": "Python 3 (ipykernel)",
   "language": "python",
   "name": "python3"
  },
  "language_info": {
   "codemirror_mode": {
    "name": "ipython",
    "version": 3
   },
   "file_extension": ".py",
   "mimetype": "text/x-python",
   "name": "python",
   "nbconvert_exporter": "python",
   "pygments_lexer": "ipython3",
   "version": "3.11.7"
  }
 },
 "nbformat": 4,
 "nbformat_minor": 5
}
