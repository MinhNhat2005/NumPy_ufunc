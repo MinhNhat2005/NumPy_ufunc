{
 "cells": [
  {
   "cell_type": "markdown",
   "id": "2837b25d-60ba-4831-9219-c9435a1cb350",
   "metadata": {},
   "source": [
    "<span style=\"font-size:30px;\">Số học đơn giản</span>\n"
   ]
  },
  {
   "cell_type": "markdown",
   "id": "37c521c6-4b0a-494d-970f-eb22a5b0fdf2",
   "metadata": {},
   "source": [
    "<span style=\"font-size:20px;\">phép cộng: add()</span>\n"
   ]
  },
  {
   "cell_type": "code",
   "execution_count": 1,
   "id": "68fa2aa1-480c-4ded-b1f3-e906887cc56f",
   "metadata": {},
   "outputs": [
    {
     "name": "stdout",
     "output_type": "stream",
     "text": [
      "[ 9 11 13 15 17 19 21]\n"
     ]
    }
   ],
   "source": [
    "# Thêm các giá trị trong arr1 vào các giá trị trong arr2\n",
    "import numpy as np\n",
    "arr1 = np.array([1,2,3,4,5,6,7])\n",
    "arr2 = np.array([8,9,10,11,12,13,14])\n",
    "\n",
    "newarr = np.add(arr1, arr2)\n",
    "print(newarr)"
   ]
  },
  {
   "cell_type": "markdown",
   "id": "22e6f106-99d3-4ab4-9fde-213c9649e642",
   "metadata": {},
   "source": [
    "<span style=\"font-size:20px;\">Phép trừ: subtract()</span>\n"
   ]
  },
  {
   "cell_type": "code",
   "execution_count": 5,
   "id": "fdd66be5-c27e-4c40-bb15-0d8f3056545d",
   "metadata": {},
   "outputs": [
    {
     "name": "stdout",
     "output_type": "stream",
     "text": [
      "[-7 -7 -7 -7 -7 -7 -7]\n"
     ]
    }
   ],
   "source": [
    "# Dùng hàm: subtract()\n",
    " # trừ các giá trị trong arr2 khỏi các gía trị trong arr1\n",
    "import numpy as np\n",
    "arr1 = np.array([1,2,3,4,5,6,7])\n",
    "arr2 = np.array([8,9,10,11,12,13,14])\n",
    "\n",
    "newarr = np.subtract(arr1, arr2)\n",
    "print(newarr)"
   ]
  },
  {
   "cell_type": "markdown",
   "id": "28ea9ff2-4bb4-4537-9f09-4fcc5eff2025",
   "metadata": {},
   "source": [
    "<span style=\"font-size:20px;\">Phép nhân: multiply</span>\n"
   ]
  },
  {
   "cell_type": "code",
   "execution_count": 6,
   "id": "3b4caef3-2366-43c8-b814-11979b6aed9c",
   "metadata": {},
   "outputs": [
    {
     "name": "stdout",
     "output_type": "stream",
     "text": [
      "[ 8 18 30 44 60 78 98]\n"
     ]
    }
   ],
   "source": [
    "# Nhân các gía trị trong arr1 với các giá trị trong arr2\n",
    "import numpy as np\n",
    "arr1 = np.array([1,2,3,4,5,6,7])\n",
    "arr2 = np.array([8,9,10,11,12,13,14])\n",
    "\n",
    "newarr = np.multiply(arr1,arr2)\n",
    "print(newarr)"
   ]
  },
  {
   "cell_type": "markdown",
   "id": "15b642d4-15d6-4726-89a4-4d019f45708d",
   "metadata": {},
   "source": [
    "<span style=\"font-size:20px;\">Phép chia: divide()</span>\n"
   ]
  },
  {
   "cell_type": "code",
   "execution_count": 9,
   "id": "53959c2e-f80c-4482-8c1c-6964940f6baf",
   "metadata": {},
   "outputs": [
    {
     "name": "stdout",
     "output_type": "stream",
     "text": [
      "[8.         4.5        3.33333333 2.75       2.4        2.16666667\n",
      " 2.        ]\n"
     ]
    }
   ],
   "source": [
    "# Chía các giá trị trong arr2 với arr1\n",
    "import numpy as np\n",
    "arr1 = np.array([1,2,3,4,5,6,7])\n",
    "arr2 = np.array([8,9,10,11,12,13,14])\n",
    "\n",
    "newarr = np.divide(arr2, arr1)\n",
    "print(newarr)\n"
   ]
  },
  {
   "cell_type": "markdown",
   "id": "8b408bc2-ddea-4201-844e-00d6da1c123d",
   "metadata": {},
   "source": [
    "<span style=\"font-size:20px;\">Hàm mũ: power()</span>\n"
   ]
  },
  {
   "cell_type": "code",
   "execution_count": 11,
   "id": "e5d961f4-d850-4cce-8987-578e119f295a",
   "metadata": {},
   "outputs": [
    {
     "name": "stdout",
     "output_type": "stream",
     "text": [
      "[           1            8        59049      4194304    244140625\n",
      "  13060694016 678223072849]\n"
     ]
    }
   ],
   "source": [
    "# Nâng các giá trị trong arr1 lên lũy thừa các giá trị trong arr2\n",
    "import numpy as np\n",
    "arr1 = np.array([1,2,3,4,5,6,7])\n",
    "arr2 = np.array([8,3,10,11,12,13,14])\n",
    "\n",
    "newarr = np.power(arr1, arr2)\n",
    "print(newarr)"
   ]
  },
  {
   "cell_type": "markdown",
   "id": "66f9a735-5c00-4e67-ab26-17e98eef033b",
   "metadata": {},
   "source": [
    "<span style=\"font-size:30px;\">Phần còn lại:  mod(), remainder()</span>\n"
   ]
  },
  {
   "cell_type": "code",
   "execution_count": 16,
   "id": "6f66d5f9-81a1-41cb-9099-6cce4eb84f96",
   "metadata": {},
   "outputs": [
    {
     "name": "stdout",
     "output_type": "stream",
     "text": [
      "[0 1 1 3 2 1 0]\n"
     ]
    }
   ],
   "source": [
    "# Trả về số dư: mod()\n",
    "# lấy arr2 chia arr1 và lấy số dư\n",
    "import numpy as np\n",
    "arr1 = np.array([1,2,3,4,5,6,7])\n",
    "arr2 = np.array([8,9,10,11,12,13,14])\n",
    "\n",
    "newarr = np.mod(arr2,arr1)\n",
    "print(newarr)"
   ]
  },
  {
   "cell_type": "code",
   "execution_count": 17,
   "id": "443ac603-b7dd-47e0-bfe9-2247c931887e",
   "metadata": {},
   "outputs": [
    {
     "name": "stdout",
     "output_type": "stream",
     "text": [
      "[0 1 1 3 2 1 0]\n"
     ]
    }
   ],
   "source": [
    "# Trả về số dư: remainder()\n",
    "# lấy arr2 chia arr1 và lấy số dư\n",
    "import numpy as np\n",
    "arr1 = np.array([1,2,3,4,5,6,7])\n",
    "arr2 = np.array([8,9,10,11,12,13,14])\n",
    "\n",
    "newarr = np.remainder(arr2,arr1)\n",
    "print(newarr)"
   ]
  },
  {
   "cell_type": "markdown",
   "id": "3ee7cad5-397d-46f9-8d6e-89be0885d763",
   "metadata": {},
   "source": [
    "<span style=\"font-size:20px;\">Thương và mod(): divmod()</span>\n"
   ]
  },
  {
   "cell_type": "code",
   "execution_count": 18,
   "id": "cc9b1944-010a-47c4-8074-9b2d1c110fb6",
   "metadata": {},
   "outputs": [
    {
     "name": "stdout",
     "output_type": "stream",
     "text": [
      "(array([8, 4, 3, 2, 2, 2, 2]), array([0, 1, 1, 3, 2, 1, 0]))\n"
     ]
    }
   ],
   "source": [
    "# trả về 2 mảng, mảng thứ 1 là thương và mảng thứ 2 chứa mod(dư)\n",
    "# lấy arr2 chia arr1 và lấy số thương và dư\n",
    "import numpy as np\n",
    "arr1 = np.array([1,2,3,4,5,6,7])\n",
    "arr2 = np.array([8,9,10,11,12,13,14])\n",
    "\n",
    "newarr = np.divmod(arr2,arr1)\n",
    "print(newarr)"
   ]
  },
  {
   "cell_type": "markdown",
   "id": "36c68380-4180-4a4d-837b-5d71225bf2df",
   "metadata": {},
   "source": [
    "<span style=\"font-size:20px;\">Gía trị tuyệt đối: absolute()</span>\n"
   ]
  },
  {
   "cell_type": "code",
   "execution_count": 20,
   "id": "886b276d-9b41-4151-a043-58071a5c7acf",
   "metadata": {},
   "outputs": [
    {
     "name": "stdout",
     "output_type": "stream",
     "text": [
      "[1 2 1 3 4 4]\n"
     ]
    }
   ],
   "source": [
    "# trả về giá trị tuyệt đối\n",
    "import numpy as np\n",
    "arr = np.array([-1,-2, 1, 3, 4 , -4])\n",
    "\n",
    "newarr = np.absolute(arr)\n",
    "print(newarr)"
   ]
  },
  {
   "cell_type": "code",
   "execution_count": null,
   "id": "7a3d0e19-c5cd-485f-aa9e-12139039bbc8",
   "metadata": {},
   "outputs": [],
   "source": []
  }
 ],
 "metadata": {
  "kernelspec": {
   "display_name": "Python 3 (ipykernel)",
   "language": "python",
   "name": "python3"
  },
  "language_info": {
   "codemirror_mode": {
    "name": "ipython",
    "version": 3
   },
   "file_extension": ".py",
   "mimetype": "text/x-python",
   "name": "python",
   "nbconvert_exporter": "python",
   "pygments_lexer": "ipython3",
   "version": "3.11.7"
  }
 },
 "nbformat": 4,
 "nbformat_minor": 5
}
