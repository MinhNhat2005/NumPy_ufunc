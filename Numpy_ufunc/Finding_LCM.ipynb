{
 "cells": [
  {
   "cell_type": "markdown",
   "id": "23f38776-0a24-4ef0-8493-df4c3f2aa4aa",
   "metadata": {},
   "source": [
    "<span style=\"font-size:30px;\">Bội chung nhỏ nhất: lcm</span>\n"
   ]
  },
  {
   "cell_type": "code",
   "execution_count": 3,
   "id": "9622e303-466b-4968-8b31-48a7b28b5784",
   "metadata": {},
   "outputs": [
    {
     "name": "stdout",
     "output_type": "stream",
     "text": [
      "BCNN = 12\n"
     ]
    }
   ],
   "source": [
    "# Tìm bội chung nhỏ nhất của 2 số sau\n",
    "import numpy as np\n",
    "num1 = 4\n",
    "num2 = 6\n",
    "\n",
    "x = np.lcm(num1, num2)\n",
    "print(\"BCNN =\",x)"
   ]
  },
  {
   "cell_type": "code",
   "execution_count": 4,
   "id": "51e2f40b-9f85-4cd5-aacf-5f3e7c660543",
   "metadata": {},
   "outputs": [
    {
     "name": "stdout",
     "output_type": "stream",
     "text": [
      "BCNN = 18\n"
     ]
    }
   ],
   "source": [
    "# Tìm bội chung nhỏ nhất cả các giá trị trong mảng\n",
    "import numpy as np\n",
    "arr = np.array([3, 6,9])\n",
    "\n",
    "x = np.lcm.reduce(arr)\n",
    "print(\"BCNN =\", x)"
   ]
  },
  {
   "cell_type": "code",
   "execution_count": 5,
   "id": "f0b25294-15ec-4753-88ec-bf29f78a07b1",
   "metadata": {},
   "outputs": [
    {
     "name": "stdout",
     "output_type": "stream",
     "text": [
      "BCNN = 2520\n"
     ]
    }
   ],
   "source": [
    "# Tìm BCNN của tất cả các giá trị trong 1 mảng chứa các số nguyên từ 1 đến 10\n",
    "import numpy as np\n",
    "arr = np.arange(1,11)\n",
    "x = np.lcm.reduce(arr)\n",
    "print(\"BCNN =\",x)"
   ]
  },
  {
   "cell_type": "code",
   "execution_count": null,
   "id": "8714e343-c48f-4b72-b0b9-ba7a76cacb03",
   "metadata": {},
   "outputs": [],
   "source": []
  }
 ],
 "metadata": {
  "kernelspec": {
   "display_name": "Python 3 (ipykernel)",
   "language": "python",
   "name": "python3"
  },
  "language_info": {
   "codemirror_mode": {
    "name": "ipython",
    "version": 3
   },
   "file_extension": ".py",
   "mimetype": "text/x-python",
   "name": "python",
   "nbconvert_exporter": "python",
   "pygments_lexer": "ipython3",
   "version": "3.11.7"
  }
 },
 "nbformat": 4,
 "nbformat_minor": 5
}
