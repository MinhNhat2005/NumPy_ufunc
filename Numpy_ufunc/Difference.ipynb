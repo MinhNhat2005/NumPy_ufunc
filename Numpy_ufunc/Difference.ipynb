{
 "cells": [
  {
   "cell_type": "code",
   "execution_count": 2,
   "id": "f34dd500-d77e-4be4-a06e-9c1d35c9d9c1",
   "metadata": {},
   "outputs": [
    {
     "name": "stdout",
     "output_type": "stream",
     "text": [
      "[  5  10 -20]\n"
     ]
    }
   ],
   "source": [
    "# Tính hiệu số rời rạc của mảng sau\n",
    "import numpy as np\n",
    "arr = np.array([10,15, 25, 5])  # Lấy số sau trừ số trước => kết quả là [15-10, 25-15, 5-25]\n",
    "newarr = np.diff(arr)\n",
    "print(newarr)"
   ]
  },
  {
   "cell_type": "code",
   "execution_count": 4,
   "id": "f95412aa-31ff-4a33-9db1-a2d7b2a7d935",
   "metadata": {},
   "outputs": [
    {
     "name": "stdout",
     "output_type": "stream",
     "text": [
      "[  5 -30]\n"
     ]
    }
   ],
   "source": [
    "# Tìm hiệu số rời rạc của mảng sau 2 lần\n",
    "import numpy as np\n",
    "arr = np.array([10, 15, 25, 5])  # kết quả là  [15-10, 25-15, 5-25] = [5, 10, -20]\n",
    "newarr = np.diff(arr, n= 2)    # thực hiện lần 2 =>  [10-5, -20-10] = [5, -30]\n",
    "print(newarr)"
   ]
  },
  {
   "cell_type": "code",
   "execution_count": null,
   "id": "613b298c-4506-4600-bcad-5f8c7923e54d",
   "metadata": {},
   "outputs": [],
   "source": []
  }
 ],
 "metadata": {
  "kernelspec": {
   "display_name": "Python 3 (ipykernel)",
   "language": "python",
   "name": "python3"
  },
  "language_info": {
   "codemirror_mode": {
    "name": "ipython",
    "version": 3
   },
   "file_extension": ".py",
   "mimetype": "text/x-python",
   "name": "python",
   "nbconvert_exporter": "python",
   "pygments_lexer": "ipython3",
   "version": "3.11.7"
  }
 },
 "nbformat": 4,
 "nbformat_minor": 5
}
