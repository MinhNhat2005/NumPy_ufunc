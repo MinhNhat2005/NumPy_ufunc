{
 "cells": [
  {
   "cell_type": "markdown",
   "id": "71e44e79-0f29-4c1e-9cf3-d9dcea4c9f22",
   "metadata": {},
   "source": [
    "<span style=\"font-size:30px;\">các hoạt động thiết lập Numpy</span>\n"
   ]
  },
  {
   "cell_type": "markdown",
   "id": "bc9de8e3-0ac6-4248-ba69-3845517afca3",
   "metadata": {},
   "source": [
    "<span style=\"font-size:20px;\">unique: tìm các phần tử duy nhất từ 1 mảng</span>\n"
   ]
  },
  {
   "cell_type": "code",
   "execution_count": 1,
   "id": "37869ed0-340c-4fdf-9749-09e09e6fa585",
   "metadata": {},
   "outputs": [
    {
     "name": "stdout",
     "output_type": "stream",
     "text": [
      "[1 2 3 4 5 6 7]\n"
     ]
    }
   ],
   "source": [
    "# Chuyển đổi mảng sau với các phần tử lặp lại thành 1 tập hợp\n",
    "import numpy as np\n",
    "arr = np.array([1,2,1,1,3,4,5,6,7])\n",
    "x = np.unique(arr)\n",
    "print(x)"
   ]
  },
  {
   "cell_type": "code",
   "execution_count": 2,
   "id": "666d3e68-8c01-47bf-86ad-5d3d9f6d25b2",
   "metadata": {},
   "outputs": [
    {
     "name": "stdout",
     "output_type": "stream",
     "text": [
      "[1 2 3 4 5 6 7]\n"
     ]
    }
   ],
   "source": [
    "# Tìm giá trị duy nhất của 2 mảng: union1d()\n",
    " # Tìm hợp của 2 mảng\n",
    "import numpy as np\n",
    "arr1 = np.array([1,2,3,4,5])\n",
    "arr2 = np.array([3,4,5,6,7])\n",
    "x = np.union1d(arr1, arr2)\n",
    "print(x)"
   ]
  },
  {
   "cell_type": "markdown",
   "id": "35bfa49d-6cf7-4a8f-94f4-1b6a65c408ba",
   "metadata": {},
   "source": [
    "<span style=\"font-size:20px;\">Tìm giao điểm</span>\n"
   ]
  },
  {
   "cell_type": "code",
   "execution_count": 4,
   "id": "1e06fb8b-cdc9-4f9e-a36e-ebe3c3d61d7d",
   "metadata": {},
   "outputs": [
    {
     "name": "stdout",
     "output_type": "stream",
     "text": [
      "[3 4 5]\n"
     ]
    }
   ],
   "source": [
    "# Tìm các giá tị chỉ có trong cả 2 mảng: intersect1d()\n",
    "import numpy as np\n",
    "arr1 = np.array([1,2,3,4,5])\n",
    "arr2 = np.array([3,4,5,6,7])\n",
    "x = np.intersect1d(arr1, arr2, assume_unique=True)\n",
    "print(x)"
   ]
  },
  {
   "cell_type": "markdown",
   "id": "2995a4d9-990b-48ef-9909-f792824243f4",
   "metadata": {},
   "source": [
    "<span style=\"font-size:30px;\">Tìm kiếm sự khác biệt</span>\n"
   ]
  },
  {
   "cell_type": "code",
   "execution_count": 5,
   "id": "c803758c-2642-42ce-8664-4d742f21899b",
   "metadata": {},
   "outputs": [
    {
     "name": "stdout",
     "output_type": "stream",
     "text": [
      "[1 2 3 4]\n"
     ]
    }
   ],
   "source": [
    "# Tìm gía trị có trong tập 1 không có trong tập thứ 2: setdiff1d()\n",
    "import numpy as np\n",
    "set1 = np.array([1,2,3,4,5])\n",
    "set2 = np.array([5,6,7,8,9])\n",
    "x = np.setdiff1d(set1, set2, assume_unique=True)\n",
    "print(x)"
   ]
  },
  {
   "cell_type": "markdown",
   "id": "42f0051b-2c83-4e92-afe8-8fcdcc1bc327",
   "metadata": {},
   "source": [
    "<span style=\"font-size:20px;\">Tìm sự khác biệt đối xứng</span>\n"
   ]
  },
  {
   "cell_type": "code",
   "execution_count": 6,
   "id": "b3f68577-d752-426b-a4ff-f852bbfa33ff",
   "metadata": {},
   "outputs": [
    {
     "name": "stdout",
     "output_type": "stream",
     "text": [
      "[1 2 6 7]\n"
     ]
    }
   ],
   "source": [
    "# tìm các giá trị không có trong cả 2 tập hợp: setxor1d()\n",
    "import numpy as np\n",
    "set1 = np.array([1,2,3,4])\n",
    "set2 = np.array([3,5,6,4])\n",
    "x = np.setxor1d(arr1, arr2, assume_unique=True)\n",
    "print(x)"
   ]
  },
  {
   "cell_type": "code",
   "execution_count": null,
   "id": "47b3f7d0-1002-480a-92d1-66c8ae3a6681",
   "metadata": {},
   "outputs": [],
   "source": []
  }
 ],
 "metadata": {
  "kernelspec": {
   "display_name": "Python 3 (ipykernel)",
   "language": "python",
   "name": "python3"
  },
  "language_info": {
   "codemirror_mode": {
    "name": "ipython",
    "version": 3
   },
   "file_extension": ".py",
   "mimetype": "text/x-python",
   "name": "python",
   "nbconvert_exporter": "python",
   "pygments_lexer": "ipython3",
   "version": "3.11.7"
  }
 },
 "nbformat": 4,
 "nbformat_minor": 5
}
