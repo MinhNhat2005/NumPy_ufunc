{
 "cells": [
  {
   "cell_type": "markdown",
   "id": "2144a04c-aa40-4542-bcf6-e16925adcaf5",
   "metadata": {},
   "source": [
    "<span style=\"font-size:30px\">Vector hóa</span>\n"
   ]
  },
  {
   "cell_type": "code",
   "execution_count": null,
   "id": "4045cf0e-cebe-481a-b720-80848d0b9d66",
   "metadata": {},
   "outputs": [],
   "source": [
    "# Thêm các phần tử của hai danh sách\n",
    "# danh sách 1: [1, 2, 3, 4]\n",
    "\n",
    "# danh sách 2: [4, 5, 6, 7]\n",
    "\n",
    "# Một cách để thực hiện là lặp lại cả hai danh sách rồi tính tổng từng phần tử."
   ]
  },
  {
   "cell_type": "code",
   "execution_count": 1,
   "id": "ed283660-3727-4fa8-8137-b7311673ba63",
   "metadata": {},
   "outputs": [
    {
     "name": "stdout",
     "output_type": "stream",
     "text": [
      "[ 5  7  9 11]\n"
     ]
    }
   ],
   "source": [
    "# Lặp lại cả 2 list rồi tính tổng từng phần tử\n",
    "import numpy as np\n",
    "x = [1,2,3,4]\n",
    "y = [4, 5, 6, 7]\n",
    "z = np.add(x, y)\n",
    "\n",
    "print(z)"
   ]
  },
  {
   "cell_type": "code",
   "execution_count": null,
   "id": "7a1d46d8-7483-4a67-a121-9f8dc65e6333",
   "metadata": {},
   "outputs": [],
   "source": []
  }
 ],
 "metadata": {
  "kernelspec": {
   "display_name": "Python 3 (ipykernel)",
   "language": "python",
   "name": "python3"
  },
  "language_info": {
   "codemirror_mode": {
    "name": "ipython",
    "version": 3
   },
   "file_extension": ".py",
   "mimetype": "text/x-python",
   "name": "python",
   "nbconvert_exporter": "python",
   "pygments_lexer": "ipython3",
   "version": "3.11.7"
  }
 },
 "nbformat": 4,
 "nbformat_minor": 5
}
