{
 "cells": [
  {
   "cell_type": "markdown",
   "id": "cb9e5dea-af7d-4c75-97c1-98ec17c68fc5",
   "metadata": {},
   "source": [
    "<span style=\"font-size:30px;\">Làm tròn số thập phân</span>\n"
   ]
  },
  {
   "cell_type": "code",
   "execution_count": 1,
   "id": "4bf3842b-3ed9-4b90-b652-7d0140afbbe6",
   "metadata": {},
   "outputs": [],
   "source": [
    "# có 5 cách để làm tròn số thập phận:\n",
    "# + trunc()\n",
    "# + fix()\n",
    "# + around()\n",
    "# + floor()\n",
    "# + ceil()"
   ]
  },
  {
   "cell_type": "code",
   "execution_count": 2,
   "id": "1a888feb-ea6d-4f98-9c89-f90a4559ca7f",
   "metadata": {},
   "outputs": [
    {
     "name": "stdout",
     "output_type": "stream",
     "text": [
      "[-3.  3.]\n"
     ]
    }
   ],
   "source": [
    "# Cắt cụt (xóa phần thập phân và trảvề số thực gần bằng 0 nhất)\n",
    "# cắt bớt các phần tử của mảng sau\n",
    "import numpy as np\n",
    "arr = np.trunc([-3.1234, 3.66667])\n",
    "print(arr)"
   ]
  },
  {
   "cell_type": "code",
   "execution_count": 3,
   "id": "2e31f211-8f75-4560-b354-377cf85c9c23",
   "metadata": {},
   "outputs": [
    {
     "name": "stdout",
     "output_type": "stream",
     "text": [
      "[-2.  5.]\n"
     ]
    }
   ],
   "source": [
    "# Vd tương tự sử dụng fix()\n",
    "import numpy as np\n",
    "arr = np.trunc([-2.1234, 5.9882])\n",
    "print(arr)"
   ]
  },
  {
   "cell_type": "code",
   "execution_count": 8,
   "id": "6a452dc9-0588-49bc-8a4b-c250075854a3",
   "metadata": {},
   "outputs": [
    {
     "name": "stdout",
     "output_type": "stream",
     "text": [
      "3.17\n"
     ]
    }
   ],
   "source": [
    "# Làm tròn 3.1666 đến 2 chữ số thập phân\n",
    "import numpy as np\n",
    "arr = np.around(3.16667, 2) # tham số thứ 2 là số chữ số thập phân muốn làm tròn\n",
    "print(arr)"
   ]
  },
  {
   "cell_type": "code",
   "execution_count": 9,
   "id": "5428c840-c8f0-4fbd-a82b-c9b2f29f0138",
   "metadata": {},
   "outputs": [
    {
     "name": "stdout",
     "output_type": "stream",
     "text": [
      "[-4.  3.]\n"
     ]
    }
   ],
   "source": [
    "# floor: làm tròn số thập phân thành số nguyên nhỏ hơn gần nhất\n",
    "import numpy as np\n",
    "arr = np.floor([-3.1667, 3.6667])\n",
    "print(arr)"
   ]
  },
  {
   "cell_type": "code",
   "execution_count": 10,
   "id": "2b70bb94-21de-4d05-bf35-155834939ba2",
   "metadata": {},
   "outputs": [
    {
     "name": "stdout",
     "output_type": "stream",
     "text": [
      "[-3.  4.]\n"
     ]
    }
   ],
   "source": [
    "# ceil: làm tròn số thập phân thành số nguyên lớn hơn gần nhất\n",
    "import numpy as np\n",
    "arr = np.ceil([-3.1667, 3.6667])\n",
    "print(arr)"
   ]
  },
  {
   "cell_type": "code",
   "execution_count": null,
   "id": "29c38835-e3d3-4a22-bbb3-436067298200",
   "metadata": {},
   "outputs": [],
   "source": []
  }
 ],
 "metadata": {
  "kernelspec": {
   "display_name": "Python 3 (ipykernel)",
   "language": "python",
   "name": "python3"
  },
  "language_info": {
   "codemirror_mode": {
    "name": "ipython",
    "version": 3
   },
   "file_extension": ".py",
   "mimetype": "text/x-python",
   "name": "python",
   "nbconvert_exporter": "python",
   "pygments_lexer": "ipython3",
   "version": "3.11.7"
  }
 },
 "nbformat": 4,
 "nbformat_minor": 5
}
