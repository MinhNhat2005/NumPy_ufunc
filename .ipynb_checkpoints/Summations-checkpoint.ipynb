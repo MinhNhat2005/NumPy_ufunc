{
 "cells": [
  {
   "cell_type": "markdown",
   "id": "2de8b0f9-2e05-40af-962c-8df956284dcf",
   "metadata": {},
   "source": [
    "<span style=\"font-size:30px;\">Tổng: sum </span>\n"
   ]
  },
  {
   "cell_type": "code",
   "execution_count": 2,
   "id": "7aed7c19-f1ba-423c-abeb-71e8fe15da47",
   "metadata": {},
   "outputs": [
    {
     "name": "stdout",
     "output_type": "stream",
     "text": [
      "21\n"
     ]
    }
   ],
   "source": [
    "# Tính tổng các gíá trị trong arr1 và arr2\n",
    "import numpy as np\n",
    "arr1 = np.array([1,2,3])\n",
    "arr2 = np.array([4,5,6])\n",
    "newarr = np.sum([arr1, arr2])\n",
    "print(newarr)"
   ]
  },
  {
   "cell_type": "markdown",
   "id": "b8d1c28b-0b7f-44fe-a4c6-d854310fb684",
   "metadata": {},
   "source": [
    "<span style=\"font-size:30px;\">Tổng Trên 1 trục: sum</span>\n"
   ]
  },
  {
   "cell_type": "code",
   "execution_count": 7,
   "id": "5b41421e-e606-4510-a535-2988b42a269f",
   "metadata": {},
   "outputs": [
    {
     "name": "stdout",
     "output_type": "stream",
     "text": [
      "[ 6 15]\n"
     ]
    }
   ],
   "source": [
    "# Thực hiện phép tính tổng trong mảng sau theo trục thứ 1\n",
    "import numpy as np\n",
    "arr1 = np.array([1,2,3])\n",
    "arr2 = np.array([4,5,6])\n",
    "newarr = np.sum([arr1, arr2], axis=1)\n",
    "print(newarr)"
   ]
  },
  {
   "cell_type": "markdown",
   "id": "b70658eb-93fe-46c1-b40f-834b66ad9d8b",
   "metadata": {},
   "source": [
    "<span style=\"font-size:30px;\">Tổng tích lũy: cumsum()</span>\n"
   ]
  },
  {
   "cell_type": "code",
   "execution_count": 10,
   "id": "d8391e18-e39c-45d0-9bc5-328d77dee3c7",
   "metadata": {},
   "outputs": [
    {
     "name": "stdout",
     "output_type": "stream",
     "text": [
      "[1 3 6]\n"
     ]
    }
   ],
   "source": [
    "# Thực hiện phép tính tổng tích lũy trong mảng sau\n",
    "import numpy as np\n",
    "arr = np.array([1,2,3])  # kết quả là [1, 1+2, 1+2+3]\n",
    "newarr = np.cumsum(arr)\n",
    "print(newarr)"
   ]
  },
  {
   "cell_type": "code",
   "execution_count": null,
   "id": "80c3abd7-a72b-450e-9f33-5ddda6d466f9",
   "metadata": {},
   "outputs": [],
   "source": []
  }
 ],
 "metadata": {
  "kernelspec": {
   "display_name": "Python 3 (ipykernel)",
   "language": "python",
   "name": "python3"
  },
  "language_info": {
   "codemirror_mode": {
    "name": "ipython",
    "version": 3
   },
   "file_extension": ".py",
   "mimetype": "text/x-python",
   "name": "python",
   "nbconvert_exporter": "python",
   "pygments_lexer": "ipython3",
   "version": "3.11.7"
  }
 },
 "nbformat": 4,
 "nbformat_minor": 5
}
