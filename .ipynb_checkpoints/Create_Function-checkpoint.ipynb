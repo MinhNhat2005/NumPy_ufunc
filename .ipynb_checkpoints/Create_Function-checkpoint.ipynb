{
 "cells": [
  {
   "cell_type": "markdown",
   "id": "fe572b17-e30f-4dbc-89de-8ceb1024be7a",
   "metadata": {},
   "source": [
    "<span style=\"font-size:30px\">Tạo ufunc của riêng bạn</span>\n"
   ]
  },
  {
   "cell_type": "code",
   "execution_count": 1,
   "id": "1d58c855-3c5d-463c-bf2a-80d309d4f852",
   "metadata": {},
   "outputs": [],
   "source": [
    "# Cách tạo ufunc của riêng bạn\n",
    "# Để tạo ufunc của riêng bạn, bạn phải định nghĩa một hàm, giống như cách bạn làm với các hàm thông thường trong Python, sau đó thêm nó vào thư viện ufunc NumPy của bạn bằng frompyfunc()phương thức.\n",
    "\n",
    "# Phương pháp này frompyfunc()sử dụng các đối số sau:\n",
    "\n",
    "# function- tên của hàm.\n",
    "# inputs- số lượng đối số đầu vào (mảng).\n",
    "# outputs- số lượng mảng đầu ra."
   ]
  },
  {
   "cell_type": "code",
   "execution_count": 15,
   "id": "b1a891ee-d78f-4fa6-9605-59c764f0cf00",
   "metadata": {},
   "outputs": [
    {
     "name": "stdout",
     "output_type": "stream",
     "text": [
      "[15 18 21 24]\n"
     ]
    }
   ],
   "source": [
    "# Tạo ufunc của riêng để cộng\n",
    "import numpy as np\n",
    "def myadd (x, y,z):\n",
    "    return x+y+z\n",
    "myadd = np.frompyfunc(myadd, 3,1)\n",
    "print(myadd([1,2,3,4], [5,6,7,8],[9,10,11,12]))"
   ]
  },
  {
   "cell_type": "code",
   "execution_count": 16,
   "id": "ae327fd4-00e4-43f4-8d02-ce297da6319f",
   "metadata": {},
   "outputs": [
    {
     "name": "stdout",
     "output_type": "stream",
     "text": [
      "<class 'numpy.ufunc'>\n"
     ]
    }
   ],
   "source": [
    "# Kiểm tra xem 1 hàm có phải là ufunc không\n",
    "import numpy as np\n",
    "print(type(np.add))"
   ]
  },
  {
   "cell_type": "code",
   "execution_count": 17,
   "id": "c8da7a99-571d-4b5a-99c0-3e4a031389e5",
   "metadata": {},
   "outputs": [
    {
     "name": "stdout",
     "output_type": "stream",
     "text": [
      "<class 'numpy._ArrayFunctionDispatcher'>\n"
     ]
    }
   ],
   "source": [
    "# Kiểm tra 1 hàm khác\n",
    "import numpy as np\n",
    "print(type(np.concatenate))"
   ]
  },
  {
   "cell_type": "code",
   "execution_count": 18,
   "id": "7ceaa76f-0bcc-427a-a9c1-351324b812cd",
   "metadata": {},
   "outputs": [
    {
     "name": "stdout",
     "output_type": "stream",
     "text": [
      "add in ufunc\n"
     ]
    }
   ],
   "source": [
    "# Sử dụng câu lệnh if để kiểm tra xem hàm có phải là ufunc không\n",
    "import numpy as np\n",
    "if type(np.add) == np.ufunc:\n",
    "    print(\"add in ufunc\")\n",
    "else:\n",
    "    print(\"add is not ufunc\")"
   ]
  },
  {
   "cell_type": "code",
   "execution_count": null,
   "id": "59e79539-371d-4b19-be53-a9dc3edee849",
   "metadata": {},
   "outputs": [],
   "source": []
  }
 ],
 "metadata": {
  "kernelspec": {
   "display_name": "Python 3 (ipykernel)",
   "language": "python",
   "name": "python3"
  },
  "language_info": {
   "codemirror_mode": {
    "name": "ipython",
    "version": 3
   },
   "file_extension": ".py",
   "mimetype": "text/x-python",
   "name": "python",
   "nbconvert_exporter": "python",
   "pygments_lexer": "ipython3",
   "version": "3.11.7"
  }
 },
 "nbformat": 4,
 "nbformat_minor": 5
}
